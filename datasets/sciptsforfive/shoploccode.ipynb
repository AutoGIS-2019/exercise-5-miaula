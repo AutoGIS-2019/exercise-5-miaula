{
 "cells": [
  {
   "cell_type": "markdown",
   "metadata": {},
   "source": [
    "## Problem 4: What is the closest shopping center from your home / work? (5 points)\n",
    "\n",
    "In the last problem you should find out the closest shopping center from two different locations a) your home and b) work place. \n",
    "\n",
    "**Steps**:\n",
    "\n",
    " - Create a txt-file called `activity_locations.txt` (use same formatting as in Problem 1) with two columns:\n",
    "    - `id`: unique id for each row\n",
    "    - `addr`:  address of your work and home (or any two addresses in the Helsinki Region.)\n",
    "    \n",
    "Save the text file into this repository.\n",
    "    \n",
    " - Read those addresses using pandas and geocode the addresses.\n",
    " - Find out the nearest shopping center to these points using Shapely `nearest_points`.\n",
    " - Print out the name of the shopping center that is nearest to a) home and b) work. For example: `Shopping center closest to home: REDI`."
   ]
  },
  {
   "cell_type": "code",
   "execution_count": 2,
   "metadata": {
    "deletable": false,
    "nbgrader": {
     "cell_type": "code",
     "checksum": "f8d9bb1491a5675d77264cebbf529f88",
     "grade": false,
     "grade_id": "read_data",
     "locked": false,
     "schema_version": 3,
     "solution": true
    }
   },
   "outputs": [],
   "source": [
    "import pandas as pd\n",
    "import geopandas as gpd\n",
    "from shapely.geometry import Point, MultiPoint\n",
    "from pyproj import CRS\n",
    "from shapely.ops import nearest_points\n",
    "\n",
    "# Import the geocoding tool\n",
    "from geopandas.tools import geocode\n",
    "\n",
    "# shop loc in\n",
    "fp = r\"shopping_centers2.txt\"\n",
    "data = pd.read_csv(fp, sep=';')\n",
    "\n"
   ]
  },
  {
   "cell_type": "code",
   "execution_count": 4,
   "metadata": {
    "deletable": false,
    "nbgrader": {
     "cell_type": "code",
     "checksum": "cde51574e6cd404266ead2aad7ac5938",
     "grade": false,
     "grade_id": "geocode",
     "locked": false,
     "schema_version": 3,
     "solution": true,
     "task": false
    }
   },
   "outputs": [
    {
     "name": "stdout",
     "output_type": "stream",
     "text": [
      "                    geometry  \\\n",
      "0  POINT (25.08294 60.21170)   \n",
      "1  POINT (24.93828 60.16878)   \n",
      "2  POINT (24.73810 60.16024)   \n",
      "3  POINT (25.04395 60.29307)   \n",
      "4  POINT (24.96282 60.29245)   \n",
      "5  POINT (24.85363 60.25941)   \n",
      "6  POINT (24.90945 60.16538)   \n",
      "\n",
      "                                             address  \n",
      "0  Kauppakeskus Itis, 1-7, Itäkatu, Itäkeskus, Va...  \n",
      "1  Salaattiasema, 14-20, Mannerheimintie, Keskust...  \n",
      "2  Captain Corvus, 11, Piispansilta, Nuottaniemi,...  \n",
      "3  Dixi, 11, Ratatie, Kukkaketo, Tikkurila, Tikku...  \n",
      "4  Stockmann, 3, Vantaanportinkatu, Pakkala, Avia...  \n",
      "5  Myyrmannin apteekki, 3 A 37, Iskoskuja, Kilter...  \n",
      "6  Salmisaarenkatu, Ruoholahti, Länsisatama, Etel...  \n"
     ]
    }
   ],
   "source": [
    "# Geocode activity locations\n",
    "\n",
    "geo = geocode(data['addr'], provider='nominatim', user_agent='autogis_ML', timeout=10)\n",
    "\n",
    "print(geo)\n",
    "\n"
   ]
  },
  {
   "cell_type": "code",
   "execution_count": 14,
   "metadata": {
    "deletable": false,
    "nbgrader": {
     "cell_type": "code",
     "checksum": "866e8fe33cb5b2e5f7d3fbecd76130f1",
     "grade": false,
     "grade_id": "check_crs",
     "locked": false,
     "schema_version": 3,
     "solution": true,
     "task": false
    }
   },
   "outputs": [
    {
     "name": "stdout",
     "output_type": "stream",
     "text": [
      "CRS of 'activity locations' after geocoding: EPSG:4326\n",
      "CRS of 'activity locations' after reprojection: epsg:3879\n",
      "CRS of 'shopping centers': epsg:3879\n"
     ]
    }
   ],
   "source": [
    "# Check coordinate reference system information (re-project/define if needed)\n",
    "print(\"CRS of 'activity locations' after geocoding: \" + str(geo.crs))\n",
    "\n",
    "# Set 'Geo' crs and reproject to Gaus-Krüger. Store crs as WKT.\n",
    "geo_crs = CRS.from_epsg(3879) \n",
    "geo = geo.to_crs(geo_crs)\n",
    "\n",
    "print(\"CRS of 'activity locations' after reprojection: \" + str(geo.crs))\n",
    "\n",
    "print(\"CRS of 'shopping centers': \" + str(shop.crs))"
   ]
  },
  {
   "cell_type": "code",
   "execution_count": 14,
   "metadata": {
    "deletable": false,
    "nbgrader": {
     "cell_type": "code",
     "checksum": "5c1d055ae749e65f0c63e487b074ad21",
     "grade": false,
     "grade_id": "nearest_points",
     "locked": false,
     "schema_version": 3,
     "solution": true,
     "task": false
    }
   },
   "outputs": [
    {
     "name": "stdout",
     "output_type": "stream",
     "text": [
      "                    geometry  \\\n",
      "0  POINT (25.08294 60.21170)   \n",
      "1  POINT (24.93828 60.16878)   \n",
      "2  POINT (24.73810 60.16024)   \n",
      "3  POINT (25.04395 60.29307)   \n",
      "4  POINT (24.96282 60.29245)   \n",
      "5  POINT (24.85363 60.25941)   \n",
      "6  POINT (24.90945 60.16538)   \n",
      "\n",
      "                                             address        name  \n",
      "0  Kauppakeskus Itis, 1-7, Itäkatu, Itäkeskus, Va...        Itis  \n",
      "1  Salaattiasema, 14-20, Mannerheimintie, Keskust...       Forum  \n",
      "2  Captain Corvus, 11, Piispansilta, Nuottaniemi,...    IsoOmena  \n",
      "3  Dixi, 11, Ratatie, Kukkaketo, Tikkurila, Tikku...        Dixi  \n",
      "4  Stockmann, 3, Vantaanportinkatu, Pakkala, Avia...       Jumbo  \n",
      "5  Myyrmannin apteekki, 3 A 37, Iskoskuja, Kilter...   Myyrmanni  \n",
      "6  Salmisaarenkatu, Ruoholahti, Länsisatama, Etel...  Ruoholahti  \n"
     ]
    }
   ],
   "source": [
    "print(geo)"
   ]
  },
  {
   "cell_type": "markdown",
   "metadata": {},
   "source": [
    "Can you think of other application cases for the nearest neighbour analysis?"
   ]
  },
  {
   "cell_type": "code",
   "execution_count": 20,
   "metadata": {
    "deletable": false,
    "nbgrader": {
     "cell_type": "code",
     "checksum": "9097d06476510270641179f9a799bad7",
     "grade": true,
     "grade_id": "problem_4_check",
     "locked": false,
     "points": 5,
     "schema_version": 3,
     "solution": true
    }
   },
   "outputs": [
    {
     "name": "stdout",
     "output_type": "stream",
     "text": [
      "Possibilities are almost endless, I believe.\n"
     ]
    }
   ],
   "source": []
  },
  {
   "cell_type": "code",
   "execution_count": 15,
   "metadata": {},
   "outputs": [],
   "source": [
    "# Write to Shapefile (just make a copy)\n",
    "outfp = \"Shopping_center_locations.shp\"\n",
    "geo.to_file(outfp)"
   ]
  },
  {
   "cell_type": "code",
   "execution_count": null,
   "metadata": {},
   "outputs": [],
   "source": []
  }
 ],
 "metadata": {
  "anaconda-cloud": {},
  "kernelspec": {
   "display_name": "Python 3",
   "language": "python",
   "name": "python3"
  },
  "language_info": {
   "codemirror_mode": {
    "name": "ipython",
    "version": 3
   },
   "file_extension": ".py",
   "mimetype": "text/x-python",
   "name": "python",
   "nbconvert_exporter": "python",
   "pygments_lexer": "ipython3",
   "version": "3.7.7"
  }
 },
 "nbformat": 4,
 "nbformat_minor": 4
}
